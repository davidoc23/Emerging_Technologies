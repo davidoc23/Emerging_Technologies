{
 "cells": [
  {
   "cell_type": "code",
   "execution_count": 1,
   "metadata": {},
   "outputs": [
    {
     "name": "stdout",
     "output_type": "stream",
     "text": [
      "Test code!\n"
     ]
    }
   ],
   "source": [
    "# Step 1: Loading the text files"
   ]
  },
  {
   "cell_type": "code",
   "execution_count": 3,
   "metadata": {},
   "outputs": [],
   "source": [
    "# Read and store the content of five books from the \"texts\" folder\n",
    "file_names = [\"book1.txt\", \"book2.txt\", \"book3.txt\", \"book4.txt\", \"book5.txt\"]\n",
    "texts = []\n",
    "\n",
    "# Loop through each file, open it, and append the content to the texts list\n",
    "for file_name in file_names:\n",
    "    with open(f\"texts/{file_name}\", 'r', encoding='utf-8') as file:\n",
    "        content = file.read()\n",
    "        texts.append(content)"
   ]
  }
 ],
 "metadata": {
  "kernelspec": {
   "display_name": "Python 3",
   "language": "python",
   "name": "python3"
  },
  "language_info": {
   "codemirror_mode": {
    "name": "ipython",
    "version": 3
   },
   "file_extension": ".py",
   "mimetype": "text/x-python",
   "name": "python",
   "nbconvert_exporter": "python",
   "pygments_lexer": "ipython3",
   "version": "3.12.1"
  }
 },
 "nbformat": 4,
 "nbformat_minor": 2
}
